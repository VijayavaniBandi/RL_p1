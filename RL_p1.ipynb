{
  "nbformat": 4,
  "nbformat_minor": 0,
  "metadata": {
    "colab": {
      "provenance": []
    },
    "kernelspec": {
      "name": "python3",
      "display_name": "Python 3"
    },
    "language_info": {
      "name": "python"
    }
  },
  "cells": [
    {
      "cell_type": "code",
      "execution_count": 1,
      "metadata": {
        "id": "1wFmNm6CBn_N"
      },
      "outputs": [],
      "source": [
        "import time\n",
        "import numpy as np\n",
        "import gym\n",
        "from gym import spaces\n",
        "import matplotlib.pyplot as plt\n",
        "from PIL import Image\n",
        "from google.colab import drive, widgets\n",
        "from IPython.display import display, clear_output"
      ]
    },
    {
      "cell_type": "code",
      "source": [
        "drive.mount('/content/drive', force_remount=True)"
      ],
      "metadata": {
        "id": "mIJrxmL0Bv5x"
      },
      "execution_count": null,
      "outputs": []
    },
    {
      "cell_type": "code",
      "source": [
        "IMAGES_DIR = \"/content/drive/MyDrive/Assignment1/images\""
      ],
      "metadata": {
        "id": "Nyv7yfQ6Bv8R"
      },
      "execution_count": null,
      "outputs": []
    },
    {
      "cell_type": "code",
      "source": [
        "MAX_TIMESTEP = 10\n",
        "MAZE_WIDTH = 4\n",
        "MAZE_LENGTH = 4\n",
        "NUM_ACTIONS = 4\n",
        "NUM_STATES = MAZE_WIDTH * MAZE_LENGTH"
      ],
      "metadata": {
        "id": "-MmzWWlRBv-q"
      },
      "execution_count": null,
      "outputs": []
    },
    {
      "cell_type": "code",
      "source": [
        "START_POS = np.asarray([3, 0])\n",
        "FINISH_POS = np.asarray([0, 3])\n",
        "GOLD_POS = np.asarray([0, 0])\n",
        "SILVER_POS = np.asarray([3, 3])\n",
        "OBSTACLE_POS = np.asarray([[2, 0], [1, 2], [1, 3], [3, 2]])"
      ],
      "metadata": {
        "id": "6KpBRU5MBwA_"
      },
      "execution_count": null,
      "outputs": []
    },
    {
      "cell_type": "code",
      "source": [
        "MAZE = np.zeros((MAZE_WIDTH, MAZE_LENGTH))\n",
        "MAZE[tuple(START_POS)] = 2\n",
        "MAZE[tuple(FINISH_POS)] = 3\n",
        "MAZE[tuple(SILVER_POS)] = 4\n",
        "MAZE[tuple(GOLD_POS)] = 5\n",
        "for i in range(len(OBSTACLE_POS)):\n",
        "    MAZE[tuple(OBSTACLE_POS[i])] = -1"
      ],
      "metadata": {
        "id": "QmFOcv4jBwDV"
      },
      "execution_count": null,
      "outputs": []
    },
    {
      "cell_type": "code",
      "source": [],
      "metadata": {
        "id": "QgmGo8K3BwF8"
      },
      "execution_count": null,
      "outputs": []
    },
    {
      "cell_type": "code",
      "source": [],
      "metadata": {
        "id": "nizTh1VnBwJX"
      },
      "execution_count": null,
      "outputs": []
    }
  ]
}